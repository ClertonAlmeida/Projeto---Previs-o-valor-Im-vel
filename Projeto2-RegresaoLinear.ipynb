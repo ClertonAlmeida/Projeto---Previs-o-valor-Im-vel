{
  "nbformat": 4,
  "nbformat_minor": 0,
  "metadata": {
    "colab": {
      "provenance": []
    },
    "kernelspec": {
      "name": "python3",
      "display_name": "Python 3"
    },
    "language_info": {
      "name": "python"
    }
  },
  "cells": [
    {
      "cell_type": "code",
      "execution_count": 20,
      "metadata": {
        "id": "uCm8vwEYwq_X"
      },
      "outputs": [],
      "source": [
        "from numpy import cov, var, std, min, max, sqrt, mean\n",
        "import matplotlib.pyplot as plt\n",
        "\n",
        "class RegressaoLinear:\n",
        "  def __init__(self, x, y):\n",
        "    self.x = x\n",
        "    self.y = y\n",
        "\n",
        "  def correlacao(self):\n",
        "    covariacao = cov(self.x, self.y, bias=True)[0][1]\n",
        "    variancia_x = var(self.x)\n",
        "    variancia_y = var(self.y)\n",
        "\n",
        "    return covariacao / sqrt(variancia_x * variancia_y)\n",
        "\n",
        "  def inclinacao(self):\n",
        "    stdx = std(self.x)\n",
        "    stdy = std(self.y)\n",
        "    return self.correlacao() * (stdy/stdx)\n",
        "\n",
        "  def interceptacao(self):\n",
        "    meanx = mean(self.x)\n",
        "    meany = mean(self.y)\n",
        "    return meany - meanx * self.inclinacao()\n",
        "\n",
        "  def previsao(self, valor):\n",
        "    intercepta = self.interceptacao()\n",
        "    return (self.inclinacao() * valor ) + intercepta\n",
        "\n",
        "  def PlotaRegressao(self, titulo=\"Regressão Linear\", nome_x=\"Eixo X\", nome_y=\"Eixo Y\"):\n",
        "    plt.xlabel(nome_x)\n",
        "    plt.ylabel(nome_y)\n",
        "    plt.title(titulo)\n",
        "    plt.xlim(0,100)\n",
        "    plt.ylim(0,4000)\n",
        "\n",
        "    plt.scatter(self.x, self.y)\n",
        "    x_min = min(self.x)\n",
        "    x_max = max(self.y)\n",
        "    x_reta = [x_min, x_max]\n",
        "    y_reta = [self.previsao(x_min), self.previsao(x_max)]\n",
        "    plt.plot(x_reta, y_reta, c= 'r')"
      ]
    },
    {
      "cell_type": "code",
      "source": [
        "idade = [18, 23, 25, 33, 34, 43, 48, 51, 58, 63, 67]\n",
        "custo = [871, 1100, 1393, 1654, 1915, 2100, 2356, 2698, 2959, 3000, 3100]\n",
        "\n",
        "regressao = RegressaoLinear(idade, custo)\n",
        "prev = regressao.previsao(22)\n",
        "print(prev)\n"
      ],
      "metadata": {
        "colab": {
          "base_uri": "https://localhost:8080/"
        },
        "id": "xzkzYqD9zpax",
        "outputId": "02c444b2-cd58-46f1-e657-4c4988c7df8d"
      },
      "execution_count": 21,
      "outputs": [
        {
          "output_type": "stream",
          "name": "stdout",
          "text": [
            "1170.9584411384212\n"
          ]
        }
      ]
    },
    {
      "cell_type": "code",
      "source": [
        "regressao.PlotaRegressao(\"Plano de Saúde\", \"Idade\", \"Custo\")"
      ],
      "metadata": {
        "colab": {
          "base_uri": "https://localhost:8080/",
          "height": 295
        },
        "id": "0mTdSYQz0ZRX",
        "outputId": "7a59eb3b-1c78-4a37-b31e-4374f081df33"
      },
      "execution_count": 22,
      "outputs": [
        {
          "output_type": "display_data",
          "data": {
            "text/plain": [
              "<Figure size 432x288 with 1 Axes>"
            ],
            "image/png": "[encoded data removed]"
          },
          "metadata": {
            "needs_background": "light"
          }
        }
      ]
    }
  ]
}